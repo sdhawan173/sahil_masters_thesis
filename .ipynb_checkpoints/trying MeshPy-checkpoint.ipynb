{
 "cells": [
  {
   "cell_type": "code",
   "execution_count": 2,
   "id": "2b6e01b1",
   "metadata": {},
   "outputs": [],
   "source": [
    "import meshpy\n",
    "from meshpy import tet\n",
    "import shutil\n",
    "import os\n",
    "\n",
    "import gudhi"
   ]
  },
  {
   "cell_type": "code",
   "execution_count": 3,
   "id": "df79766f-18a8-42ae-8889-438f04977ec2",
   "metadata": {},
   "outputs": [],
   "source": [
    "# MeshPy\n",
    "#https://pypi.org/project/MeshPy/\n",
    "# Mesh Generation with MeshPy\n",
    "#https://stackoverflow.com/questions/27474277/mesh-generation-with-meshpy\n",
    "# Normal Facets in FreeCAD\n",
    "#https://blender.stackexchange.com/questions/165919/why-do-i-have-different-normal-directions-ascii-stl\n",
    "\n",
    "# Gudhi Simplex Tree User Manual\n",
    "#https://gudhi.inria.fr/python/latest/simplex_tree_user.html"
   ]
  },
  {
   "cell_type": "code",
   "execution_count": 4,
   "id": "8b157eac-c2a3-4491-98d2-c85ecd2c1f47",
   "metadata": {},
   "outputs": [
    {
     "name": "stdout",
     "output_type": "stream",
     "text": [
      "0 ascii Batarang Knife.ast\n",
      "1 ascii cube with cube void.ast\n",
      "2 ascii cube with tetrahedron void.ast\n",
      "3 ascii cube with triangle hole.ast\n",
      "4 ascii cube.ast\n",
      "5 ascii equilateral triangle extrusion.ast\n",
      "6 ascii sphere with sphere void.ast\n",
      "7 ascii sphere.ast\n",
      "8 ascii tetrahedron.ast\n",
      "9 ascii weird shape 1.ast\n",
      "10 ascii weird shape 2 - 2 cubes.ast\n"
     ]
    },
    {
     "name": "stdin",
     "output_type": "stream",
     "text": [
      "Choose .ast file by entering the corresponding number:\n",
      " 4\n"
     ]
    }
   ],
   "source": [
    "def search_filetype(file_string, dir_string=os.getcwd()):\n",
    "    \"\"\"\n",
    "    searches a directory, with the current working directory as default, for a given filetype.\n",
    "    :param dir_string: string of directory to search\n",
    "    :param file_string: string of filetype, input as a string in the format: '.type'\n",
    "    :return: list of file names with extensions that match search term\n",
    "    \"\"\"\n",
    "    file_list = []\n",
    "\n",
    "    # Run through list and add files with .ast extension to ast_list\n",
    "    for list_item in os.listdir(dir_string):\n",
    "        if list_item.__contains__(file_string):\n",
    "            file_list.append(list_item)\n",
    "    return file_list\n",
    "\n",
    "pwd = os.getcwd()\n",
    "ast_list = search_filetype('.ast', dir_string=pwd)\n",
    "\n",
    "# List .ast files avaiable in directory\n",
    "for face in range(len(ast_list)):\n",
    "    print(str(face) + ' ' + ast_list[face])\n",
    "\n",
    "# Select file, print output to confirm choice\n",
    "# ast_index = 3\n",
    "ast_index = int(input('Choose .ast file by entering the corresponding number:\\n'))\n",
    "chosen_file = ast_list[ast_index]\n",
    "chosen_file_path = pwd + '\\\\' + chosen_file"
   ]
  },
  {
   "cell_type": "code",
   "execution_count": 5,
   "id": "001e5ddc-5b6d-44f0-a5bb-51e57c894abe",
   "metadata": {},
   "outputs": [
    {
     "data": {
      "text/plain": [
       "\"C:\\\\Users\\\\sdhawan\\\\Documents\\\\05 - Master's Thesis\\\\STL Experiments\\\\ascii cube.ast\""
      ]
     },
     "execution_count": 5,
     "metadata": {},
     "output_type": "execute_result"
    }
   ],
   "source": [
    "chosen_file_path"
   ]
  },
  {
   "cell_type": "code",
   "execution_count": 6,
   "id": "84a127b1-ac46-4aba-af8d-9a491b6b240f",
   "metadata": {},
   "outputs": [
    {
     "data": {
      "text/plain": [
       "'ascii cube'"
      ]
     },
     "execution_count": 6,
     "metadata": {},
     "output_type": "execute_result"
    }
   ],
   "source": [
    "chosen_file[:-4]"
   ]
  },
  {
   "cell_type": "code",
   "execution_count": 7,
   "id": "24688a42",
   "metadata": {},
   "outputs": [],
   "source": [
    "#https://wias-berlin.de/software/tetgen/switches.html\n",
    "\n",
    "#Use mesh to create a simplicial tree complex\n",
    "\n",
    "tet_options = tet.Options(switches='-a')\n",
    "meshinfo = tet.MeshInfo()\n",
    "src_dir = chosen_file_path\n",
    "temp_string = '(temp STL conversion)'\n",
    "dst_dir = chosen_file[:-4] + temp_string + '.stl'\n",
    "shutil.copy(src_dir, dst_dir)\n",
    "meshinfo.load_stl(dst_dir)\n",
    "tetra_mesh = tet.build(meshinfo, options=tet_options, verbose=True)\n",
    "os.remove(dst_dir)"
   ]
  },
  {
   "cell_type": "code",
   "execution_count": 8,
   "id": "2bb1d3ca",
   "metadata": {},
   "outputs": [
    {
     "data": {
      "text/plain": [
       "<meshpy.tet.MeshInfo at 0x1a291b31550>"
      ]
     },
     "execution_count": 8,
     "metadata": {},
     "output_type": "execute_result"
    }
   ],
   "source": [
    "tetra_mesh"
   ]
  },
  {
   "cell_type": "code",
   "execution_count": 9,
   "id": "f9d1a1e8",
   "metadata": {},
   "outputs": [
    {
     "data": {
      "text/plain": [
       "[[3, 5, 4, 1],\n",
       " [7, 5, 8, 1],\n",
       " [6, 5, 3, 1],\n",
       " [2, 6, 3, 1],\n",
       " [6, 2, 8, 1],\n",
       " [5, 6, 8, 1]]"
      ]
     },
     "execution_count": 9,
     "metadata": {},
     "output_type": "execute_result"
    }
   ],
   "source": [
    "list(tetra_mesh.elements)"
   ]
  },
  {
   "cell_type": "code",
   "execution_count": 52,
   "id": "28d85d3f",
   "metadata": {},
   "outputs": [
    {
     "data": {
      "text/plain": [
       "[[10.0, 0.0, 0.0],\n",
       " [10.0, 0.0, 10.0],\n",
       " [10.0, 10.0, 10.0],\n",
       " [10.0, 10.0, 0.0],\n",
       " [0.0, 10.0, 0.0],\n",
       " [0.0, 10.0, 10.0],\n",
       " [0.0, 0.0, 0.0],\n",
       " [0.0, 0.0, 10.0]]"
      ]
     },
     "execution_count": 52,
     "metadata": {},
     "output_type": "execute_result"
    }
   ],
   "source": [
    "list(tetra_mesh.points)"
   ]
  },
  {
   "cell_type": "code",
   "execution_count": 47,
   "id": "d5da9049",
   "metadata": {
    "scrolled": true
   },
   "outputs": [
    {
     "data": {
      "text/plain": [
       "[]"
      ]
     },
     "execution_count": 47,
     "metadata": {},
     "output_type": "execute_result"
    }
   ],
   "source": [
    "list(tetra_mesh.edges)"
   ]
  },
  {
   "cell_type": "code",
   "execution_count": 48,
   "id": "ff4e058f",
   "metadata": {},
   "outputs": [
    {
     "data": {
      "text/plain": [
       "[[6, 2, 3],\n",
       " [5, 3, 4],\n",
       " [5, 6, 3],\n",
       " [7, 5, 1],\n",
       " [5, 4, 1],\n",
       " [2, 6, 8],\n",
       " [6, 5, 8],\n",
       " [5, 7, 8],\n",
       " [4, 3, 1],\n",
       " [3, 2, 1],\n",
       " [2, 8, 1],\n",
       " [8, 7, 1]]"
      ]
     },
     "execution_count": 48,
     "metadata": {},
     "output_type": "execute_result"
    }
   ],
   "source": [
    "list(tetra_mesh.faces)"
   ]
  },
  {
   "cell_type": "code",
   "execution_count": 38,
   "id": "f5330d27",
   "metadata": {},
   "outputs": [
    {
     "name": "stdout",
     "output_type": "stream",
     "text": [
      "num_vertices=2\n",
      "num_simplices=3\n",
      "skeleton(2) =\n",
      "([10, 40], 0.0)\n",
      "([10], 0.0)\n",
      "([40], 0.0)\n"
     ]
    }
   ],
   "source": [
    "st = gudhi.SimplexTree()\n",
    "st.insert([10,40])\n",
    "# if st.insert([0, 1]):\n",
    "#     print(\"[0, 1] inserted\")\n",
    "# if st.insert([0, 1, 2], filtration=4.0):\n",
    "#     print(\"[0, 1, 2] inserted\")\n",
    "st.insert( # any dimension\n",
    "# if st.find([0, 1]):\n",
    "#     print(\"[0, 1] found\")\n",
    "result_str = 'num_vertices=' + repr(st.num_vertices())\n",
    "print(result_str)\n",
    "result_str = 'num_simplices=' + repr(st.num_simplices())\n",
    "print(result_str)\n",
    "print(\"skeleton(2) =\")\n",
    "for sk_value in st.get_skeleton(2):\n",
    "    print(sk_value)"
   ]
  },
  {
   "cell_type": "code",
   "execution_count": null,
   "id": "b5496ead-6569-470e-95a9-cc9b11dc3e47",
   "metadata": {},
   "outputs": [],
   "source": []
  }
 ],
 "metadata": {
  "kernelspec": {
   "display_name": "Python 3 (ipykernel)",
   "language": "python",
   "name": "python3"
  },
  "language_info": {
   "codemirror_mode": {
    "name": "ipython",
    "version": 3
   },
   "file_extension": ".py",
   "mimetype": "text/x-python",
   "name": "python",
   "nbconvert_exporter": "python",
   "pygments_lexer": "ipython3",
   "version": "3.11.4"
  }
 },
 "nbformat": 4,
 "nbformat_minor": 5
}
