{
 "cells": [
  {
   "cell_type": "code",
   "execution_count": 2,
   "id": "23fe8866",
   "metadata": {},
   "outputs": [],
   "source": [
    "import math\n",
    "import matplotlib.pyplot as plt\n",
    "import numpy as np"
   ]
  },
  {
   "cell_type": "code",
   "execution_count": 3,
   "id": "16d90ebd",
   "metadata": {},
   "outputs": [],
   "source": [
    "PD = [(1,3), (2,5), (3,math.inf)]"
   ]
  },
  {
   "cell_type": "code",
   "execution_count": 8,
   "id": "7275e7fb",
   "metadata": {},
   "outputs": [
    {
     "data": {
      "text/plain": [
       "Text(0, 8, '$\\\\infty$')"
      ]
     },
     "execution_count": 8,
     "metadata": {},
     "output_type": "execute_result"
    },
    {
     "data": {
      "image/png": "[encoded data removed]",
      "text/plain": [
       "<Figure size 432x288 with 1 Axes>"
      ]
     },
     "metadata": {
      "needs_background": "light"
     },
     "output_type": "display_data"
    }
   ],
   "source": [
    "# set infinty value\n",
    "infvalue = 8\n",
    "for i, (x,y) in enumerate(PD):\n",
    "    if y == math.inf:\n",
    "        PD[i] = (x,infvalue)\n",
    "\n",
    "plt.scatter(\n",
    "    [x[0] for x in PD],\n",
    "    [x[1] for x in PD]\n",
    ")\n",
    "plt.xlim(0,infvalue)\n",
    "plt.ylim(0,infvalue*1.1)\n",
    "plt.gca().set_aspect(1)\n",
    "plt.plot([0,infvalue], [0,infvalue], linestyle='dashed', c='grey')\n",
    "plt.gca().axhline(infvalue, linestyle='dashed', c='grey')\n",
    "plt.annotate('$\\infty$', (0,infvalue), fontsize=20)"
   ]
  },
  {
   "cell_type": "code",
   "execution_count": null,
   "id": "93dcff21",
   "metadata": {},
   "outputs": [],
   "source": []
  }
 ],
 "metadata": {
  "kernelspec": {
   "display_name": "Python 3",
   "language": "python",
   "name": "python3"
  },
  "language_info": {
   "codemirror_mode": {
    "name": "ipython",
    "version": 3
   },
   "file_extension": ".py",
   "mimetype": "text/x-python",
   "name": "python",
   "nbconvert_exporter": "python",
   "pygments_lexer": "ipython3",
   "version": "3.8.8"
  }
 },
 "nbformat": 4,
 "nbformat_minor": 5
}
