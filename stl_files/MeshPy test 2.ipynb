{
 "cells": [
  {
   "cell_type": "code",
   "execution_count": 1,
   "id": "57ed400b-305e-48a1-9a38-43e2a19009a8",
   "metadata": {},
   "outputs": [],
   "source": [
    "from meshpy.tet import MeshInfo, build"
   ]
  },
  {
   "cell_type": "code",
   "execution_count": 5,
   "id": "3f9ddc00-e165-4dd5-8baf-b8d21c718762",
   "metadata": {},
   "outputs": [],
   "source": [
    "mesh_info = MeshInfo()"
   ]
  },
  {
   "cell_type": "code",
   "execution_count": 6,
   "id": "0cecac2b-e471-4e61-b671-8344259d262f",
   "metadata": {},
   "outputs": [],
   "source": [
    "mesh_info.set_points([\n",
    "    (0,0,0), (2,0,0), (2,2,0), (0,2,0),\n",
    "    (0,0,12), (2,0,12), (2,2,12), (0,2,12),\n",
    "    ])"
   ]
  },
  {
   "cell_type": "code",
   "execution_count": 7,
   "id": "c36c87db-8ec0-4967-b6ee-3e984c46c334",
   "metadata": {},
   "outputs": [],
   "source": [
    "mesh_info.set_facets([\n",
    "    [0,1,2,3],\n",
    "    [4,5,6,7],\n",
    "    [0,4,5,1],\n",
    "    [1,5,6,2],\n",
    "    [2,6,7,3],\n",
    "    [3,7,4,0],\n",
    "    ])"
   ]
  },
  {
   "cell_type": "code",
   "execution_count": 8,
   "id": "1434d537-00c4-488d-8ba7-bf623adec51f",
   "metadata": {},
   "outputs": [],
   "source": [
    "mesh = build(mesh_info)"
   ]
  },
  {
   "cell_type": "code",
   "execution_count": 12,
   "id": "ef3a96f8-cf29-452f-90fc-8ff53e2df3ba",
   "metadata": {},
   "outputs": [
    {
     "name": "stdout",
     "output_type": "stream",
     "text": [
      "Mesh Points:\n",
      "[0.0, 0.0, 0.0]\n",
      "[2.0, 0.0, 0.0]\n",
      "[2.0, 2.0, 0.0]\n",
      "[0.0, 2.0, 0.0]\n",
      "[0.0, 0.0, 12.0]\n",
      "[2.0, 0.0, 12.0]\n",
      "[2.0, 2.0, 12.0]\n",
      "[0.0, 2.0, 12.0]\n",
      "[2.0, 2.0, 6.0]\n",
      "[0.0, 0.0, 6.0]\n",
      "[0.0, 2.0, 6.0]\n",
      "[2.0, 0.0, 6.0]\n"
     ]
    }
   ],
   "source": [
    "print(\"Mesh Points:\")\n",
    "for p in mesh.points:\n",
    "    print('{}'.format(p))"
   ]
  },
  {
   "cell_type": "code",
   "execution_count": 15,
   "id": "0e9de62a-799a-4e23-b592-f1229eeba486",
   "metadata": {},
   "outputs": [
    {
     "name": "stdout",
     "output_type": "stream",
     "text": [
      "Point numbers in tetrahedra:\n",
      "[2, 10, 0, 8]\n",
      "[2, 0, 1, 8]\n",
      "[4, 11, 9, 8]\n",
      "[0, 10, 9, 8]\n",
      "[6, 10, 4, 7]\n",
      "[4, 11, 8, 5]\n",
      "[0, 11, 1, 8]\n",
      "[2, 10, 3, 0]\n",
      "[6, 10, 8, 4]\n",
      "[5, 4, 6, 8]\n",
      "[0, 11, 8, 9]\n",
      "[4, 10, 8, 9]\n"
     ]
    }
   ],
   "source": [
    "print(\"Point numbers in tetrahedra:\")\n",
    "for t in mesh.elements:\n",
    "    print(t)\n",
    "# mesh.write_vtk(\"test.vtk\")"
   ]
  },
  {
   "cell_type": "code",
   "execution_count": null,
   "id": "1987ea5a-0152-43af-a1a2-f48c7f4d8209",
   "metadata": {},
   "outputs": [],
   "source": []
  },
  {
   "cell_type": "code",
   "execution_count": null,
   "id": "846ea8c3-0839-4d58-ad52-4fccef5162d3",
   "metadata": {},
   "outputs": [],
   "source": []
  },
  {
   "cell_type": "code",
   "execution_count": null,
   "id": "714f4a26-76fe-4426-bc87-e465c290b320",
   "metadata": {},
   "outputs": [],
   "source": []
  },
  {
   "cell_type": "code",
   "execution_count": null,
   "id": "9b1143ae-edef-45f6-8f3f-4509e0cb65ec",
   "metadata": {},
   "outputs": [],
   "source": []
  }
 ],
 "metadata": {
  "kernelspec": {
   "display_name": "Python 3 (ipykernel)",
   "language": "python",
   "name": "python3"
  },
  "language_info": {
   "codemirror_mode": {
    "name": "ipython",
    "version": 3
   },
   "file_extension": ".py",
   "mimetype": "text/x-python",
   "name": "python",
   "nbconvert_exporter": "python",
   "pygments_lexer": "ipython3",
   "version": "3.11.4"
  }
 },
 "nbformat": 4,
 "nbformat_minor": 5
}
